{
 "cells": [
  {
   "cell_type": "markdown",
   "id": "da442fd2",
   "metadata": {},
   "source": [
    "---\n",
    "MINGAR Smartwear Data Analysis\n",
    "\n",
    "The effect of age and skin tone on product choice and sleep trackings\n",
    "\n",
    "Author: \"Report prepared for MINGAR by Visionaries\"\n",
    "\n",
    "---"
   ]
  },
  {
   "cell_type": "code",
   "execution_count": 1,
   "id": "fcca6080",
   "metadata": {},
   "outputs": [
    {
     "name": "stderr",
     "output_type": "stream",
     "text": [
      "── \u001b[1mAttaching core tidyverse packages\u001b[22m ──────────────────────── tidyverse 2.0.0 ──\n",
      "\u001b[32m✔\u001b[39m \u001b[34mdplyr    \u001b[39m 1.1.2     \u001b[32m✔\u001b[39m \u001b[34mreadr    \u001b[39m 2.1.4\n",
      "\u001b[32m✔\u001b[39m \u001b[34mforcats  \u001b[39m 1.0.0     \u001b[32m✔\u001b[39m \u001b[34mstringr  \u001b[39m 1.5.0\n",
      "\u001b[32m✔\u001b[39m \u001b[34mggplot2  \u001b[39m 3.4.2     \u001b[32m✔\u001b[39m \u001b[34mtibble   \u001b[39m 3.2.1\n",
      "\u001b[32m✔\u001b[39m \u001b[34mlubridate\u001b[39m 1.9.2     \u001b[32m✔\u001b[39m \u001b[34mtidyr    \u001b[39m 1.3.0\n",
      "\u001b[32m✔\u001b[39m \u001b[34mpurrr    \u001b[39m 1.0.1     \n",
      "── \u001b[1mConflicts\u001b[22m ────────────────────────────────────────── tidyverse_conflicts() ──\n",
      "\u001b[31m✖\u001b[39m \u001b[34mdplyr\u001b[39m::\u001b[32mfilter()\u001b[39m masks \u001b[34mstats\u001b[39m::filter()\n",
      "\u001b[31m✖\u001b[39m \u001b[34mdplyr\u001b[39m::\u001b[32mlag()\u001b[39m    masks \u001b[34mstats\u001b[39m::lag()\n",
      "\u001b[36mℹ\u001b[39m Use the conflicted package (\u001b[3m\u001b[34m<http://conflicted.r-lib.org/>\u001b[39m\u001b[23m) to force all conflicts to become errors\n",
      "Loading required package: Matrix\n",
      "\n",
      "\n",
      "Attaching package: ‘Matrix’\n",
      "\n",
      "\n",
      "The following objects are masked from ‘package:tidyr’:\n",
      "\n",
      "    expand, pack, unpack\n",
      "\n",
      "\n",
      "\n",
      "Attaching package: ‘rvest’\n",
      "\n",
      "\n",
      "The following object is masked from ‘package:readr’:\n",
      "\n",
      "    guess_encoding\n",
      "\n",
      "\n",
      "Loading required package: zoo\n",
      "\n",
      "\n",
      "Attaching package: ‘zoo’\n",
      "\n",
      "\n",
      "The following objects are masked from ‘package:base’:\n",
      "\n",
      "    as.Date, as.Date.numeric\n",
      "\n",
      "\n"
     ]
    }
   ],
   "source": [
    "\n",
    "library(tidyverse)\n",
    "library(lme4)\n",
    "library(rvest)\n",
    "library(polite)\n",
    "library(lmtest)\n"
   ]
  },
  {
   "cell_type": "markdown",
   "id": "d4179fe7",
   "metadata": {},
   "source": [
    "## Background and Aim\n",
    "The technology company MINGAR is interested in understanding their customers better and determining whether there are issues with their products. In particular, there are two research questions we were interested in: first, what are the characteristics of the newer and affordable product consumers and how do they differ from traditional consumers? The goal with this question is to understand if the more affordable device is being bought by people with lower income levels. We used a Binomial general linear model to estimate whether a customer bought a device from the new line. Second, individuals with darker skin experience more issues with sleep tracking in their device than people with lighter skin? There have been complaints about this, and we want to resolve any issues if they exist. We fit a Poisson general linear model to estimate the number of sleep quality flags per hour.\n",
    "\n",
    "## Key Findings\n",
    "•\tIndividuals with the darkest skin tone had an average of 11.8 flags per hour, while those with the lightest skin tone had an average of 1.2 flags per hour. \\\n",
    "•\tIndividuals with the darkest skin tone were 95 percent likely to be flagged between 10.6 to 11.3 times more than individuals with the lightest skin tone. \\\n",
    "•\tThe type of device had no significant effect on number of flags, so this issue persists across all devices \\\n",
    "• A customer is likely to purchase the newer product are 2.1316 times higher when the customer is age 92 compared to a customer aged 18, with a 95% confidence interval of (1.28, 1.66). \\\n",
    "• There was no significant effect on the odds of a consumer buying the new product when their income of area corresponding to their postal code is maximum compared to the minimum income of the consumer. \n",
    "\n",
    "## Limitations\n",
    "There are several limitations to this study. First, after removing missing observations, the sample size decreased from 974 to 710. Second, there may be some missing variables that affect sleep quality, such as health issues, stress levels, or sleep times. Also, we do not have the actual data of the customer's skin colour because the emoji colour may not match a customer's real skin tone and the data contained a big portion of customers who had not set on any colour for their emojis. Thirdly, there may have been useful analysis in which pronouns rather than biological sex could have affected the odds of a customer buying the newer product and their sleep quality flags. Furthermore, for the technical resources we used the Wald method to calculate our confidence intervals. Even though Wald method is known to be fast and efficient it may not be as precise as the profile likelihood."
   ]
  },
  {
   "cell_type": "markdown",
   "id": "e59bd74e",
   "metadata": {},
   "source": [
    "## Question 1: What are the characteristics of the newer and affordable product consumers and how do they differ from traditional consumers?"
   ]
  },
  {
   "cell_type": "markdown",
   "id": "c657c871",
   "metadata": {},
   "source": [
    "### Data cleaning\n",
    "\n",
    "Four sets of data files were provided by the client for thew purposes of our research questions. \n",
    "1. cust_dev: matching each customer id to their current device \n",
    "2. customer: general information about each of the customer for use in the app and associated profile and chat features \n",
    "3. device: additional information about each device \n",
    "4. cust_sleep: the customer sleep data \n",
    "\n",
    "Furthermore, we webscraped the device data from fitness tracker info hub website which contains device name, line, recommended retail price, battery life etc. Also, to estimate the customer household median income the canadian census API was used. The postal code of the customer was matched to the list of census regions to get the median income in that area. Since postal codes can be linked to multiple census subdivisions, the mean of the median incomes from those CSDuid was determined for each customer. \n",
    "\n",
    "For the first reasearch question we merged the data files and chose the following variables for our data analysis: \n",
    "1. new_line: binary variable which indicates 1 if the product is in the active/advance line, 0 if the product is in the traditional line \n",
    "2. skin_colour: skin tone modifier for emojis when using the chat and react features of the social component of the client app. 5 skin colours were present ranging from Light to Dark, additionally if the customer had no set skin tone the NA variable was changed to default due to high customer population with NA skin tones, further discussion about this choice is present in the limitations section.  \n",
    "3. sex: the biological sex for the customer \n",
    "4. customer_id: the unique customer id \n",
    "5. age: the age of the customer \n",
    "6. PC: the postal code of the customer \n",
    "7. area_median_income: estimated median income corresponding to the postal code of the customer \n",
    "\n",
    "The device line was made into a binary variable as we will be using it as the response for the model since we are analyzing what kind of customers choose the active/advance line. The customers who had the NA in skin tone modifiers was changed into default skin tone users since we had a lot of customers using this and we do not know their real skin tone. Furthermore the customers who had NAs in their biological sex was dropped from the data."
   ]
  },
  {
   "cell_type": "code",
   "execution_count": 2,
   "id": "605782ec",
   "metadata": {},
   "outputs": [],
   "source": [
    "# read in the data (this will only work once you've set up the data!)\n",
    "cust <- readRDS(\"~/sta303-w22-final-project-template/data/cust.rds\")\n",
    "\n",
    "# factor releveling\n",
    "cust$sex <- factor(cust$sex, levels = c(\"Female\", \"Male\"))\n",
    "\n",
    "# removed observations with NA's in sex column, since it is only a small portion, around 200/19000\n",
    "cust <- cust%>%\n",
    "  drop_na(sex)\n",
    "\n",
    "cust$skin_colour <- factor(cust$skin_colour, levels = c(\"Default\", \"Light\", \"Medium Light\", \"Medium\", \"Medium Dark\", \"Dark\"))\n"
   ]
  },
  {
   "cell_type": "markdown",
   "id": "d28aa9ce",
   "metadata": {},
   "source": [
    "# Data exploration\n",
    "\n",
    "The data consisted of `r length(cust$cust_id)` observations with the mean age of `r round(mean(cust$age), 2)` the highest aged customer being `r max(cust$age)` years old and the youngest customer being `r min(cust$age)` years old. Also, `r length(which(cust$sex==\"Female\"))` customers are biologically females and `r length(which(cust$sex==\"Male\"))` customers are biologically males. The proportion of customers who used the advance/active line product was `r round(length(which(cust$new_line==1))/(length(which(cust$new_line==1)) + length(which(cust$new_line==0))), 2)`."
   ]
  },
  {
   "cell_type": "code",
   "execution_count": 3,
   "id": "017021b7",
   "metadata": {},
   "outputs": [
    {
     "data": {
      "text/plain": [
       "\n",
       "\n",
       "Table: The proportion of sex for each new/traditional product\n",
       "\n",
       "|   | Female| Male|\n",
       "|:--|------:|----:|\n",
       "|0  |   0.59| 0.41|\n",
       "|1  |   0.59| 0.41|"
      ]
     },
     "metadata": {},
     "output_type": "display_data"
    }
   ],
   "source": [
    "\n",
    "table1 <- table(cust$new_line, cust$sex)\n",
    "table1 <- round(prop.table(table1, margin = 1),2)\n",
    "knitr::kable(table1, col.names = c(\"Female\", \"Male\"), digits = 2, caption = \"The proportion of sex for each new/traditional product\")\n"
   ]
  },
  {
   "cell_type": "markdown",
   "id": "f94eba5d",
   "metadata": {},
   "source": [
    "*The proportion of the customers by sex for each of the new or traditional product line was quite similar with 0.59 for females and 0.41 for males."
   ]
  },
  {
   "cell_type": "code",
   "execution_count": 4,
   "id": "2591ecce",
   "metadata": {},
   "outputs": [
    {
     "data": {
      "image/png": "[encoded data removed]",
      "text/plain": [
       "plot without title"
      ]
     },
     "metadata": {
      "image/png": {
       "height": 420,
       "width": 420
      }
     },
     "output_type": "display_data"
    }
   ],
   "source": [
    "cust %>%\n",
    "  ggplot(aes(x = as_factor(new_line), y = area_median_income, fill = as_factor(new_line))) + \n",
    "  geom_boxplot() +ylab(\"median income of area\")+xlab(\"new product line\")+\n",
    "  theme_minimal() +\n",
    "  theme(legend.position=\"none\") +\n",
    "  scale_fill_brewer(palette=\"BuPu\") +\n",
    "  labs(caption = \"Created by Linyang Wu in STA303/1002, Winter 2022\") + \n",
    "  ggtitle(\"Customer income by product line\")"
   ]
  },
  {
   "cell_type": "markdown",
   "id": "884d862d",
   "metadata": {},
   "source": [
    "*Plot 1: Boxplot of consumer income by product line* This boxplot describes the income of the customers versus which product they purchased such that if it is 0 it is traditional product and 1 if it is the newer product. The customers of the traditional line had the higher median incomes with a slightly high variance as compared to the newer line customers.\n"
   ]
  },
  {
   "cell_type": "code",
   "execution_count": 5,
   "id": "e524c73a",
   "metadata": {},
   "outputs": [
    {
     "name": "stderr",
     "output_type": "stream",
     "text": [
      "\u001b[1m\u001b[22m`summarise()` has grouped output by 'new_line'. You can override using the\n",
      "`.groups` argument.\n"
     ]
    },
    {
     "data": {
      "text/plain": [
       "\n",
       "\n",
       "Table: Customer Age By Product Line\n",
       "\n",
       "|Product Line |Sex    |  Mean| Median|   Var.| Min.| Max.|    n|\n",
       "|:------------|:------|-----:|------:|------:|----:|----:|----:|\n",
       "|New          |Female | 47.03|     47| 332.52|   17|   92| 6110|\n",
       "|New          |Male   | 47.52|     47| 344.84|   17|   92| 4326|\n",
       "|Traditional  |Female | 45.78|     45| 218.13|   17|   92| 4971|\n",
       "|Traditional  |Male   | 45.81|     45| 219.56|   17|   92| 3416|"
      ]
     },
     "metadata": {},
     "output_type": "display_data"
    }
   ],
   "source": [
    "# customer age by product line\n",
    "\n",
    "age_table <- cust %>% group_by(new_line, sex) %>% mutate(new_line = case_when(new_line == 0 ~ \"Traditional\",\n",
    "                                                                              new_line == 1 ~ \"New\")) %>% summarize(mean = mean(age), median = median(age), var = var(age), min = min(age), max = max(age), n = n())\n",
    "\n",
    "knitr::kable(age_table, \"pipe\", col.names = c(\"Product Line\", \"Sex\", \"Mean\", \"Median\", \"Var.\", \"Min.\", \"Max.\", \"n\"),\n",
    "             caption = \"Customer Age By Product Line\", digits = 2)"
   ]
  },
  {
   "cell_type": "markdown",
   "id": "6e3912ce",
   "metadata": {},
   "source": [
    "*Table 2: Customer age by product line* This table describes the age of the customers for each of the product lines according to their sex. In general the mean age of the customers using the traditional line was 2 points lower the mean age of the newer line consumers. The newer line male consumers had the highest variance in terms of their age and the highest number of consumers were newer line female consumers.\n",
    "\n",
    "### Methods for Question 1:\n",
    "\n",
    "The first question of our data analysis is what are the differences in characteristics in the newer line customers as compared to the customers of the traditional line. In this case our variable of interest is a binary variable indicating whether the consumer bought the new line product or the traditional product. The predictor variables we were first interested in was the area median income according to the consumer postal code, the age of the consumer, the skin colour of the emoji modifier that the consumer chose, the biological sex of the consumer, the ID and the postal code. \n",
    "\n",
    "The method that we chose was generalized linear mixed models (GLMM) with logit link because we shouldn’t use LMMs because of the response variable which is binary in our case, and we shouldn’t use GLMs because of grouping/repeated measures in our data. Even though the IDs of each of the consumers were unique there could be repeated purchases from the same consumer making a different account etc. Also, GLMMs can be used in a range of situations where observations are grouped in some way (not all independent).\n",
    "\n",
    "The fixed effects of the model were area median income, age, skin colour and sex since these are not random quantities. The income and the age variable were rescaled from 0-1 interval. The random effects of the model were ID and Postal code. Since these are individual level random effects as discussed above. After fitting different models and doing likelihood ratio tests in between nested models. We had no evidence against the claim that the model with the income, age and ID is as good a fit to the data as the model with the more complicated random effect/fixed effect structure.\n",
    "\n",
    "$$Y_{i} \\sim Bernoulli(p_{i})$$\n",
    "$$Logit(p_{i}) = \\mu + income_i*\\beta_1 + age_i*\\beta_2 + U_i$$\n",
    "$$U_{i} \\sim N(0, \\sigma^2)$$\n",
    "\n",
    "\n",
    "where:\n",
    "\n",
    "- $Y_{i}$ is whether the customer bought the newer line Active/Advance product.\n",
    "- $\\mu$ is the intercept in the model.\n",
    "- $income_i$ is the fixed effect of income.\n",
    "- $age_i$ is the fixed effect of age.\n",
    "- $U_{i}$ is the consumer ID random effect.\n",
    "- $U_{i} > 0$ if i is more likely than the average to purchase the newer line product (allows for within-individual dependence).\n",
    "\n",
    "The assumptions of GLMMs are:\n",
    "1. Our customers are independent.\n",
    "2. Random effects come from a normal distribution.\n",
    "3. The random effects errors and within-unit residual errors have constant variance.\n",
    "4. The chosen link function is appropriate.\n",
    "After plotting the residual vs fitted model and plotting the qqplots we deemed that the assumptions of our model was met."
   ]
  },
  {
   "cell_type": "code",
   "execution_count": 6,
   "id": "65507ec4",
   "metadata": {},
   "outputs": [
    {
     "name": "stderr",
     "output_type": "stream",
     "text": [
      "Warning message in checkConv(attr(opt, \"derivs\"), opt$par, ctrl = control$checkConv, :\n",
      "“Model failed to converge with max|grad| = 0.00299753 (tol = 0.002, component 1)”\n"
     ]
    },
    {
     "data": {
      "text/plain": [
       "Generalized linear mixed model fit by maximum likelihood (Laplace\n",
       "  Approximation) [glmerMod]\n",
       " Family: binomial  ( logit )\n",
       "Formula: new_line ~ rescaled_income + rescaled_age + skin_colour + sex +  \n",
       "    (1 | cust_id)\n",
       "   Data: cust\n",
       "Control: glmerControl(optimizer = \"bobyqa\", optCtrl = list(maxfun = 2e+05))\n",
       "\n",
       "     AIC      BIC   logLik deviance df.resid \n",
       " 25447.1  25525.6 -12713.6  25427.1    18813 \n",
       "\n",
       "Scaled residuals: \n",
       "    Min      1Q  Median      3Q     Max \n",
       "-1.5575 -1.1141  0.7243  0.8699  3.1605 \n",
       "\n",
       "Random effects:\n",
       " Groups  Name        Variance Std.Dev.\n",
       " cust_id (Intercept) 0.000945 0.03074 \n",
       "Number of obs: 18823, groups:  cust_id, 18823\n",
       "\n",
       "Fixed effects:\n",
       "                        Estimate Std. Error z value Pr(>|z|)    \n",
       "(Intercept)              0.63934    0.05246  12.187  < 2e-16 ***\n",
       "rescaled_income         -3.08739    0.17103 -18.052  < 2e-16 ***\n",
       "rescaled_age             0.37557    0.06623   5.671 1.42e-08 ***\n",
       "skin_colourLight        -0.03147    0.04683  -0.672    0.502    \n",
       "skin_colourMedium Light  0.00954    0.04805   0.199    0.843    \n",
       "skin_colourMedium        0.01724    0.04992   0.345    0.730    \n",
       "skin_colourMedium Dark  -0.01950    0.04999  -0.390    0.696    \n",
       "skin_colourDark          0.02953    0.05025   0.588    0.557    \n",
       "sexMale                  0.03745    0.03018   1.241    0.215    \n",
       "---\n",
       "Signif. codes:  0 ‘***’ 0.001 ‘**’ 0.01 ‘*’ 0.05 ‘.’ 0.1 ‘ ’ 1\n",
       "\n",
       "Correlation of Fixed Effects:\n",
       "            (Intr) rscld_n rscld_g skn_cL skn_ML skn_cM skn_MD skn_cD\n",
       "rescald_ncm -0.618                                                   \n",
       "rescaled_ag -0.482 -0.015                                            \n",
       "skn_clrLght -0.270 -0.147   0.008                                    \n",
       "skn_clrMdmL -0.260 -0.135  -0.007   0.411                            \n",
       "skin_clrMdm -0.361  0.040   0.003   0.369  0.360                     \n",
       "skn_clrMdmD -0.425  0.149  -0.005   0.352  0.344  0.358              \n",
       "skin_clrDrk -0.426  0.145   0.004   0.350  0.343  0.356  0.372       \n",
       "sexMale     -0.223 -0.015  -0.007  -0.001 -0.005 -0.001  0.000  0.005"
      ]
     },
     "metadata": {},
     "output_type": "display_data"
    },
    {
     "data": {
      "text/plain": [
       "Generalized linear mixed model fit by maximum likelihood (Laplace\n",
       "  Approximation) [glmerMod]\n",
       " Family: binomial  ( logit )\n",
       "Formula: new_line ~ rescaled_income + rescaled_age + sex + (1 | cust_id)\n",
       "   Data: cust\n",
       "Control: glmerControl(optimizer = \"bobyqa\", optCtrl = list(maxfun = 2e+05))\n",
       "\n",
       "     AIC      BIC   logLik deviance df.resid \n",
       " 25438.9  25478.2 -12714.5  25428.9    18818 \n",
       "\n",
       "Scaled residuals: \n",
       "    Min      1Q  Median      3Q     Max \n",
       "-1.5550 -1.1155  0.7240  0.8697  3.1674 \n",
       "\n",
       "Random effects:\n",
       " Groups  Name        Variance  Std.Dev.\n",
       " cust_id (Intercept) 0.0008335 0.02887 \n",
       "Number of obs: 18823, groups:  cust_id, 18823\n",
       "\n",
       "Fixed effects:\n",
       "                Estimate Std. Error z value Pr(>|z|)    \n",
       "(Intercept)      0.64454    0.04428  14.556  < 2e-16 ***\n",
       "rescaled_income -3.11653    0.16052 -19.416  < 2e-16 ***\n",
       "rescaled_age     0.37587    0.06622   5.676 1.38e-08 ***\n",
       "sexMale          0.03735    0.03018   1.238    0.216    \n",
       "---\n",
       "Signif. codes:  0 ‘***’ 0.001 ‘**’ 0.01 ‘*’ 0.05 ‘.’ 0.1 ‘ ’ 1\n",
       "\n",
       "Correlation of Fixed Effects:\n",
       "            (Intr) rscld_n rscld_g\n",
       "rescald_ncm -0.685                \n",
       "rescaled_ag -0.570 -0.017         \n",
       "sexMale     -0.262 -0.018  -0.007 \n",
       "optimizer (bobyqa) convergence code: 0 (OK)\n",
       "Model failed to converge with max|grad| = 0.00299753 (tol = 0.002, component 1)\n"
      ]
     },
     "metadata": {},
     "output_type": "display_data"
    },
    {
     "data": {
      "text/plain": [
       "Generalized linear mixed model fit by maximum likelihood (Laplace\n",
       "  Approximation) [glmerMod]\n",
       " Family: binomial  ( logit )\n",
       "Formula: new_line ~ rescaled_income + rescaled_age + (1 | cust_id)\n",
       "   Data: cust\n",
       "Control: glmerControl(optimizer = \"bobyqa\", optCtrl = list(maxfun = 2e+05))\n",
       "\n",
       "     AIC      BIC   logLik deviance df.resid \n",
       " 25438.5  25469.8 -12715.2  25430.5    18819 \n",
       "\n",
       "Scaled residuals: \n",
       "    Min      1Q  Median      3Q     Max \n",
       "-1.5379 -1.1155  0.7258  0.8695  3.1395 \n",
       "\n",
       "Random effects:\n",
       " Groups  Name        Variance  Std.Dev.\n",
       " cust_id (Intercept) 0.0009396 0.03065 \n",
       "Number of obs: 18823, groups:  cust_id, 18823\n",
       "\n",
       "Fixed effects:\n",
       "                Estimate Std. Error z value Pr(>|z|)    \n",
       "(Intercept)      0.65911    0.04266  15.451  < 2e-16 ***\n",
       "rescaled_income -3.11379    0.16004 -19.457  < 2e-16 ***\n",
       "rescaled_age     0.37655    0.06621   5.687 1.29e-08 ***\n",
       "---\n",
       "Signif. codes:  0 ‘***’ 0.001 ‘**’ 0.01 ‘*’ 0.05 ‘.’ 0.1 ‘ ’ 1\n",
       "\n",
       "Correlation of Fixed Effects:\n",
       "            (Intr) rscld_n\n",
       "rescald_ncm -0.714        \n",
       "rescaled_ag -0.594 -0.016 "
      ]
     },
     "metadata": {},
     "output_type": "display_data"
    },
    {
     "data": {
      "text/html": [
       "<table class=\"dataframe\">\n",
       "<caption>A anova: 2 × 5</caption>\n",
       "<thead>\n",
       "\t<tr><th></th><th scope=col>#Df</th><th scope=col>LogLik</th><th scope=col>Df</th><th scope=col>Chisq</th><th scope=col>Pr(&gt;Chisq)</th></tr>\n",
       "\t<tr><th></th><th scope=col>&lt;dbl&gt;</th><th scope=col>&lt;dbl&gt;</th><th scope=col>&lt;dbl&gt;</th><th scope=col>&lt;dbl&gt;</th><th scope=col>&lt;dbl&gt;</th></tr>\n",
       "</thead>\n",
       "<tbody>\n",
       "\t<tr><th scope=row>1</th><td>11</td><td>-12713.57</td><td>NA</td><td>         NA</td><td>       NA</td></tr>\n",
       "\t<tr><th scope=row>2</th><td>10</td><td>-12713.57</td><td>-1</td><td>5.20231e-09</td><td>0.9999425</td></tr>\n",
       "</tbody>\n",
       "</table>\n"
      ],
      "text/latex": [
       "A anova: 2 × 5\n",
       "\\begin{tabular}{r|lllll}\n",
       "  & \\#Df & LogLik & Df & Chisq & Pr(>Chisq)\\\\\n",
       "  & <dbl> & <dbl> & <dbl> & <dbl> & <dbl>\\\\\n",
       "\\hline\n",
       "\t1 & 11 & -12713.57 & NA &          NA &        NA\\\\\n",
       "\t2 & 10 & -12713.57 & -1 & 5.20231e-09 & 0.9999425\\\\\n",
       "\\end{tabular}\n"
      ],
      "text/markdown": [
       "\n",
       "A anova: 2 × 5\n",
       "\n",
       "| <!--/--> | #Df &lt;dbl&gt; | LogLik &lt;dbl&gt; | Df &lt;dbl&gt; | Chisq &lt;dbl&gt; | Pr(&gt;Chisq) &lt;dbl&gt; |\n",
       "|---|---|---|---|---|---|\n",
       "| 1 | 11 | -12713.57 | NA |          NA |        NA |\n",
       "| 2 | 10 | -12713.57 | -1 | 5.20231e-09 | 0.9999425 |\n",
       "\n"
      ],
      "text/plain": [
       "  #Df LogLik    Df Chisq       Pr(>Chisq)\n",
       "1 11  -12713.57 NA          NA        NA \n",
       "2 10  -12713.57 -1 5.20231e-09 0.9999425 "
      ]
     },
     "metadata": {},
     "output_type": "display_data"
    },
    {
     "data": {
      "text/html": [
       "<table class=\"dataframe\">\n",
       "<caption>A anova: 2 × 5</caption>\n",
       "<thead>\n",
       "\t<tr><th></th><th scope=col>#Df</th><th scope=col>LogLik</th><th scope=col>Df</th><th scope=col>Chisq</th><th scope=col>Pr(&gt;Chisq)</th></tr>\n",
       "\t<tr><th></th><th scope=col>&lt;dbl&gt;</th><th scope=col>&lt;dbl&gt;</th><th scope=col>&lt;dbl&gt;</th><th scope=col>&lt;dbl&gt;</th><th scope=col>&lt;dbl&gt;</th></tr>\n",
       "</thead>\n",
       "<tbody>\n",
       "\t<tr><th scope=row>1</th><td>10</td><td>-12713.57</td><td>NA</td><td>      NA</td><td>       NA</td></tr>\n",
       "\t<tr><th scope=row>2</th><td> 5</td><td>-12714.47</td><td>-5</td><td>1.789598</td><td>0.8774242</td></tr>\n",
       "</tbody>\n",
       "</table>\n"
      ],
      "text/latex": [
       "A anova: 2 × 5\n",
       "\\begin{tabular}{r|lllll}\n",
       "  & \\#Df & LogLik & Df & Chisq & Pr(>Chisq)\\\\\n",
       "  & <dbl> & <dbl> & <dbl> & <dbl> & <dbl>\\\\\n",
       "\\hline\n",
       "\t1 & 10 & -12713.57 & NA &       NA &        NA\\\\\n",
       "\t2 &  5 & -12714.47 & -5 & 1.789598 & 0.8774242\\\\\n",
       "\\end{tabular}\n"
      ],
      "text/markdown": [
       "\n",
       "A anova: 2 × 5\n",
       "\n",
       "| <!--/--> | #Df &lt;dbl&gt; | LogLik &lt;dbl&gt; | Df &lt;dbl&gt; | Chisq &lt;dbl&gt; | Pr(&gt;Chisq) &lt;dbl&gt; |\n",
       "|---|---|---|---|---|---|\n",
       "| 1 | 10 | -12713.57 | NA |       NA |        NA |\n",
       "| 2 |  5 | -12714.47 | -5 | 1.789598 | 0.8774242 |\n",
       "\n"
      ],
      "text/plain": [
       "  #Df LogLik    Df Chisq    Pr(>Chisq)\n",
       "1 10  -12713.57 NA       NA        NA \n",
       "2  5  -12714.47 -5 1.789598 0.8774242 "
      ]
     },
     "metadata": {},
     "output_type": "display_data"
    },
    {
     "data": {
      "text/html": [
       "<table class=\"dataframe\">\n",
       "<caption>A anova: 2 × 5</caption>\n",
       "<thead>\n",
       "\t<tr><th></th><th scope=col>#Df</th><th scope=col>LogLik</th><th scope=col>Df</th><th scope=col>Chisq</th><th scope=col>Pr(&gt;Chisq)</th></tr>\n",
       "\t<tr><th></th><th scope=col>&lt;dbl&gt;</th><th scope=col>&lt;dbl&gt;</th><th scope=col>&lt;dbl&gt;</th><th scope=col>&lt;dbl&gt;</th><th scope=col>&lt;dbl&gt;</th></tr>\n",
       "</thead>\n",
       "<tbody>\n",
       "\t<tr><th scope=row>1</th><td>5</td><td>-12714.47</td><td>NA</td><td>      NA</td><td>       NA</td></tr>\n",
       "\t<tr><th scope=row>2</th><td>4</td><td>-12715.24</td><td>-1</td><td>1.532274</td><td>0.2157715</td></tr>\n",
       "</tbody>\n",
       "</table>\n"
      ],
      "text/latex": [
       "A anova: 2 × 5\n",
       "\\begin{tabular}{r|lllll}\n",
       "  & \\#Df & LogLik & Df & Chisq & Pr(>Chisq)\\\\\n",
       "  & <dbl> & <dbl> & <dbl> & <dbl> & <dbl>\\\\\n",
       "\\hline\n",
       "\t1 & 5 & -12714.47 & NA &       NA &        NA\\\\\n",
       "\t2 & 4 & -12715.24 & -1 & 1.532274 & 0.2157715\\\\\n",
       "\\end{tabular}\n"
      ],
      "text/markdown": [
       "\n",
       "A anova: 2 × 5\n",
       "\n",
       "| <!--/--> | #Df &lt;dbl&gt; | LogLik &lt;dbl&gt; | Df &lt;dbl&gt; | Chisq &lt;dbl&gt; | Pr(&gt;Chisq) &lt;dbl&gt; |\n",
       "|---|---|---|---|---|---|\n",
       "| 1 | 5 | -12714.47 | NA |       NA |        NA |\n",
       "| 2 | 4 | -12715.24 | -1 | 1.532274 | 0.2157715 |\n",
       "\n"
      ],
      "text/plain": [
       "  #Df LogLik    Df Chisq    Pr(>Chisq)\n",
       "1 5   -12714.47 NA       NA        NA \n",
       "2 4   -12715.24 -1 1.532274 0.2157715 "
      ]
     },
     "metadata": {},
     "output_type": "display_data"
    },
    {
     "data": {
      "text/html": [
       "<table class=\"dataframe\">\n",
       "<caption>A anova: 2 × 5</caption>\n",
       "<thead>\n",
       "\t<tr><th></th><th scope=col>#Df</th><th scope=col>LogLik</th><th scope=col>Df</th><th scope=col>Chisq</th><th scope=col>Pr(&gt;Chisq)</th></tr>\n",
       "\t<tr><th></th><th scope=col>&lt;dbl&gt;</th><th scope=col>&lt;dbl&gt;</th><th scope=col>&lt;dbl&gt;</th><th scope=col>&lt;dbl&gt;</th><th scope=col>&lt;dbl&gt;</th></tr>\n",
       "</thead>\n",
       "<tbody>\n",
       "\t<tr><th scope=row>1</th><td>4</td><td>-12715.24</td><td>NA</td><td>      NA</td><td>         NA</td></tr>\n",
       "\t<tr><th scope=row>2</th><td>3</td><td>-12731.52</td><td>-1</td><td>32.56549</td><td>1.15243e-08</td></tr>\n",
       "</tbody>\n",
       "</table>\n"
      ],
      "text/latex": [
       "A anova: 2 × 5\n",
       "\\begin{tabular}{r|lllll}\n",
       "  & \\#Df & LogLik & Df & Chisq & Pr(>Chisq)\\\\\n",
       "  & <dbl> & <dbl> & <dbl> & <dbl> & <dbl>\\\\\n",
       "\\hline\n",
       "\t1 & 4 & -12715.24 & NA &       NA &          NA\\\\\n",
       "\t2 & 3 & -12731.52 & -1 & 32.56549 & 1.15243e-08\\\\\n",
       "\\end{tabular}\n"
      ],
      "text/markdown": [
       "\n",
       "A anova: 2 × 5\n",
       "\n",
       "| <!--/--> | #Df &lt;dbl&gt; | LogLik &lt;dbl&gt; | Df &lt;dbl&gt; | Chisq &lt;dbl&gt; | Pr(&gt;Chisq) &lt;dbl&gt; |\n",
       "|---|---|---|---|---|---|\n",
       "| 1 | 4 | -12715.24 | NA |       NA |          NA |\n",
       "| 2 | 3 | -12731.52 | -1 | 32.56549 | 1.15243e-08 |\n",
       "\n"
      ],
      "text/plain": [
       "  #Df LogLik    Df Chisq    Pr(>Chisq) \n",
       "1 4   -12715.24 NA       NA          NA\n",
       "2 3   -12731.52 -1 32.56549 1.15243e-08"
      ]
     },
     "metadata": {},
     "output_type": "display_data"
    }
   ],
   "source": [
    "rescaled_age <- scales::rescale(cust$age)\n",
    "rescaled_income <- scales::rescale(cust$area_median_income)\n",
    "cust <- cust%>% mutate(rescaled_age)\n",
    "cust <- cust%>% mutate(rescaled_income)\n",
    "\n",
    "cust_fit <- lme4::glmer(new_line ~ rescaled_income + rescaled_age + skin_colour + sex + (1 | cust_id) + (1 | PC), \n",
    "        family=binomial(link='logit'), control=glmerControl(optimizer=\"bobyqa\",  optCtrl=list(maxfun=2e5)), data=cust)\n",
    "\n",
    "cust_fit1 <- lme4::glmer(new_line ~ rescaled_income + rescaled_age + skin_colour + sex + (1 | cust_id), \n",
    "        family=binomial(link='logit'), control=glmerControl(optimizer=\"bobyqa\",  optCtrl=list(maxfun=2e5)), data=cust)\n",
    "\n",
    "cust_fit2 <- lme4::glmer(new_line ~ rescaled_income + rescaled_age + sex + (1 | cust_id), \n",
    "        family=binomial(link='logit'), control=glmerControl(optimizer=\"bobyqa\",  optCtrl=list(maxfun=2e5)), data=cust)\n",
    "\n",
    "cust_fit3 <- lme4::glmer(new_line ~ rescaled_income + rescaled_age + (1 | cust_id), \n",
    "        family=binomial(link='logit'), control=glmerControl(optimizer=\"bobyqa\",  optCtrl=list(maxfun=2e5)), data=cust)\n",
    "\n",
    "cust_fit4 <- lme4::glmer(new_line ~ rescaled_income + (1 | cust_id), \n",
    "        family=binomial(link='logit'), control=glmerControl(optimizer=\"bobyqa\",  optCtrl=list(maxfun=2e5)), data=cust)\n",
    "\n",
    "cust_fit5 <- glm(new_line ~ rescaled_income + rescaled_age ,family=binomial(link='logit'), data=cust)\n",
    "\n",
    "summary(cust_fit1)\n",
    "summary(cust_fit2)\n",
    "summary(cust_fit3)\n",
    "\n",
    "lmtest::lrtest(cust_fit, cust_fit1)\n",
    "lmtest::lrtest(cust_fit1, cust_fit2)\n",
    "lmtest::lrtest(cust_fit2, cust_fit3)\n",
    "lmtest::lrtest(cust_fit3, cust_fit4)\n"
   ]
  },
  {
   "cell_type": "code",
   "execution_count": 7,
   "id": "e5f0ccbf",
   "metadata": {},
   "outputs": [
    {
     "data": {
      "text/plain": [
       "Generalized linear mixed model fit by maximum likelihood (Laplace\n",
       "  Approximation) [glmerMod]\n",
       " Family: binomial  ( logit )\n",
       "Formula: new_line ~ rescaled_income + rescaled_age + (1 | cust_id)\n",
       "   Data: cust\n",
       "Control: glmerControl(optimizer = \"bobyqa\", optCtrl = list(maxfun = 2e+05))\n",
       "\n",
       "     AIC      BIC   logLik deviance df.resid \n",
       " 25438.5  25469.8 -12715.2  25430.5    18819 \n",
       "\n",
       "Scaled residuals: \n",
       "    Min      1Q  Median      3Q     Max \n",
       "-1.5379 -1.1155  0.7258  0.8695  3.1395 \n",
       "\n",
       "Random effects:\n",
       " Groups  Name        Variance  Std.Dev.\n",
       " cust_id (Intercept) 0.0009396 0.03065 \n",
       "Number of obs: 18823, groups:  cust_id, 18823\n",
       "\n",
       "Fixed effects:\n",
       "                Estimate Std. Error z value Pr(>|z|)    \n",
       "(Intercept)      0.65911    0.04266  15.451  < 2e-16 ***\n",
       "rescaled_income -3.11379    0.16004 -19.457  < 2e-16 ***\n",
       "rescaled_age     0.37655    0.06621   5.687 1.29e-08 ***\n",
       "---\n",
       "Signif. codes:  0 ‘***’ 0.001 ‘**’ 0.01 ‘*’ 0.05 ‘.’ 0.1 ‘ ’ 1\n",
       "\n",
       "Correlation of Fixed Effects:\n",
       "            (Intr) rscld_n\n",
       "rescald_ncm -0.714        \n",
       "rescaled_ag -0.594 -0.016 "
      ]
     },
     "metadata": {},
     "output_type": "display_data"
    },
    {
     "data": {
      "text/plain": [
       " Groups  Name        Std.Dev.\n",
       " cust_id (Intercept) 0.030653"
      ]
     },
     "metadata": {},
     "output_type": "display_data"
    },
    {
     "data": {
      "text/html": [
       "<table class=\"dataframe\">\n",
       "<caption>A matrix: 3 × 4 of type dbl</caption>\n",
       "<thead>\n",
       "\t<tr><th></th><th scope=col>Estimate</th><th scope=col>Std. Error</th><th scope=col>z value</th><th scope=col>Pr(&gt;|z|)</th></tr>\n",
       "</thead>\n",
       "<tbody>\n",
       "\t<tr><th scope=row>(Intercept)</th><td> 0.66</td><td>0.04</td><td> 15.45</td><td>0</td></tr>\n",
       "\t<tr><th scope=row>rescaled_income</th><td>-3.11</td><td>0.16</td><td>-19.46</td><td>0</td></tr>\n",
       "\t<tr><th scope=row>rescaled_age</th><td> 0.38</td><td>0.07</td><td>  5.69</td><td>0</td></tr>\n",
       "</tbody>\n",
       "</table>\n"
      ],
      "text/latex": [
       "A matrix: 3 × 4 of type dbl\n",
       "\\begin{tabular}{r|llll}\n",
       "  & Estimate & Std. Error & z value & Pr(>\\textbar{}z\\textbar{})\\\\\n",
       "\\hline\n",
       "\t(Intercept) &  0.66 & 0.04 &  15.45 & 0\\\\\n",
       "\trescaled\\_income & -3.11 & 0.16 & -19.46 & 0\\\\\n",
       "\trescaled\\_age &  0.38 & 0.07 &   5.69 & 0\\\\\n",
       "\\end{tabular}\n"
      ],
      "text/markdown": [
       "\n",
       "A matrix: 3 × 4 of type dbl\n",
       "\n",
       "| <!--/--> | Estimate | Std. Error | z value | Pr(&gt;|z|) |\n",
       "|---|---|---|---|---|\n",
       "| (Intercept) |  0.66 | 0.04 |  15.45 | 0 |\n",
       "| rescaled_income | -3.11 | 0.16 | -19.46 | 0 |\n",
       "| rescaled_age |  0.38 | 0.07 |   5.69 | 0 |\n",
       "\n"
      ],
      "text/plain": [
       "                Estimate Std. Error z value Pr(>|z|)\n",
       "(Intercept)      0.66    0.04        15.45  0       \n",
       "rescaled_income -3.11    0.16       -19.46  0       \n",
       "rescaled_age     0.38    0.07         5.69  0       "
      ]
     },
     "metadata": {},
     "output_type": "display_data"
    },
    {
     "data": {
      "image/png": "[encoded data removed]",
      "text/plain": [
       "plot without title"
      ]
     },
     "metadata": {
      "image/png": {
       "height": 420,
       "width": 420
      }
     },
     "output_type": "display_data"
    }
   ],
   "source": [
    "res <- resid(cust_fit3)\n",
    "plot(fitted(cust_fit3), res)\n",
    "\n",
    "\n",
    "\n",
    "summary(cust_fit3)\n",
    "\n",
    "lme4::VarCorr(cust_fit3)\n",
    "\n",
    "round(summary(cust_fit3)$coef, digits=2)\n",
    "\n",
    "# knitr::kable(round(summary(cust_fit)$coef, digits=2), caption = \"Fixed effects\")\n",
    "\n",
    "\n",
    "confint = confint.merMod(cust_fit3, method = \"Wald\")\n",
    "\n",
    "# lattice::dotplot(lme4::ranef(cust_fit3, condVar=TRUE)) \n",
    "\n",
    "ests <- format(round(exp(summary(cust_fit3)$coeff)[,1], 2), nsmall = 2)\n",
    "\n",
    "cis <- format(round(exp(confint),2)[-1,], nsmall = 2)\n",
    "\n",
    "cis_pretty <- str_c(\"(\", trimws(cis[,1]), \", \", cis[,2], \")\")\n",
    "\n",
    "rownames_for_table <- c(\"Baseline odds of purchasing newer line\", \"Income of area\", \"Age\")\n",
    "colnames_for_table <- c(\"Estimate\", \"95% CI\")\n",
    "\n",
    "my_pretty_table <- cbind(ests, cis_pretty)\n",
    "rownames(my_pretty_table) <- rownames_for_table\n",
    "colnames(my_pretty_table) <- colnames_for_table"
   ]
  },
  {
   "cell_type": "markdown",
   "id": "c234590c",
   "metadata": {},
   "source": [
    "### The results"
   ]
  },
  {
   "cell_type": "code",
   "execution_count": 10,
   "id": "745f5fd4",
   "metadata": {},
   "outputs": [
    {
     "data": {
      "text/plain": [
       "\n",
       "\n",
       "Table: Confidence Intervals And Estimates\n",
       "\n",
       "|                                       | Estimate|       95% CI|\n",
       "|:--------------------------------------|--------:|------------:|\n",
       "|Baseline odds of purchasing newer line |     1.93| (1.78, 2.10)|\n",
       "|Income of area                         |     0.04| (0.03, 0.06)|\n",
       "|Age                                    |     1.46| (1.28, 1.66)|"
      ]
     },
     "metadata": {},
     "output_type": "display_data"
    }
   ],
   "source": [
    "knitr::kable(my_pretty_table, align = c(\"r\", \"r\"), caption = \"Confidence Intervals And Estimates\")"
   ]
  },
  {
   "cell_type": "markdown",
   "id": "94a930ae",
   "metadata": {},
   "source": [
    "The age variable were rescaled to 0 to 1 which 0 is the youngest of 18 and the oldest 1 being 92. Also the income variable was rescaled 0 to 1 with the minimum being `r min(cust$area_median_income)` and the maximum being `r max(cust$area_median_income)`. The odds ratio of the customer buying the newer product, going from the youngest age to the oldest age (92), holding income constant, is an estimate of `r 1.46^2`. Hence, we estimate that the odds of the consumer purchasing the newer product when the age goes from youngest to oldest is over 2 times higher. In other words a customer is likely to purchase the newer product are 2.1316 times higher when the customer is age 92 compared to a customer aged 18. The exponentiated point estimate is 0.95 with a confidence interval of (1.28, 1.66) for $beta_2$. There was no significant change in odds of a consumer purchasing the newer product when their area income goes from minimum to maximum. \n",
    "\n",
    "\n",
    "## Question 1: Do people with darker skin experience more issues with sleep tracking in their device than people with lighter skin?\n",
    "\n",
    "### Data exploration for Question 2:"
   ]
  },
  {
   "cell_type": "code",
   "execution_count": 11,
   "id": "4cb251a8",
   "metadata": {},
   "outputs": [],
   "source": [
    "# second research question\n",
    "\n",
    "# EDA\n",
    "\n",
    "sleep <- readRDS(\"~/sta303-w22-final-project-template/data/sleep.rds\")\n",
    "\n",
    "\n",
    "sleep$skin_colour <- factor(sleep$skin_colour, levels = c(\"Light\", \"Medium Light\", \"Medium\", \"Medium Dark\", \"Dark\"))"
   ]
  },
  {
   "cell_type": "code",
   "execution_count": 13,
   "id": "3b7c3272",
   "metadata": {},
   "outputs": [
    {
     "name": "stderr",
     "output_type": "stream",
     "text": [
      "\u001b[1m\u001b[22m`summarise()` has grouped output by 'new_line'. You can override using the\n",
      "`.groups` argument.\n"
     ]
    },
    {
     "data": {
      "image/png": "[encoded data removed]",
      "text/plain": [
       "plot without title"
      ]
     },
     "metadata": {
      "image/png": {
       "height": 420,
       "width": 420
      }
     },
     "output_type": "display_data"
    }
   ],
   "source": [
    "# Product Line by skin_colour\n",
    "cust %>% group_by(new_line, skin_colour) %>% summarise(n = n())%>%\n",
    "  ggplot(aes(x=factor(new_line), y=n, fill=skin_colour)) + \n",
    "  geom_bar(stat=\"identity\", position=position_dodge()) +scale_fill_manual(values=c(\"Default\"=\"gold\", \"Light\"=\"peachpuff1\", \"Medium Light\"=\"tan1\", \"Medium\"=\"tan2\", \"Medium Dark\"=\"tan3\",\"Dark\"=\"tan4\" ))+xlab(\"new product line\") + ylab(\"number of customers\") +\n",
    "  labs(caption = \"Created by Anita in STA303/1002, Winter 2022\")"
   ]
  },
  {
   "cell_type": "markdown",
   "id": "762b7167",
   "metadata": {},
   "source": [
    "*Product sold by skin colour* The barplot shows the number of people buying each product, grouped by skin colour, to get an idea of the diversity of your customers. For the newer product line the numbers of customers using the default skin tone emoji was significantly higher than the customers other types of customers who chose their emoji skin tone.\n"
   ]
  },
  {
   "cell_type": "code",
   "execution_count": 16,
   "id": "94f547b2",
   "metadata": {},
   "outputs": [
    {
     "data": {
      "image/png": "[encoded data removed]",
      "text/plain": [
       "plot without title"
      ]
     },
     "metadata": {
      "image/png": {
       "height": 420,
       "width": 420
      }
     },
     "output_type": "display_data"
    }
   ],
   "source": [
    "sleep %>% group_by(skin_colour) %>%\n",
    "  ggplot(aes(x=factor(skin_colour), y=flags, fill=skin_colour)) + \n",
    "  geom_boxplot()+ggtitle(\"Number of flags during sleep grouped by skin colour\")+xlab(\"skin colour\")+scale_fill_manual(values=c(\"Light\"=\"peachpuff1\", \"Medium Light\"=\"tan1\", \"Medium\"=\"tan2\", \"Medium Dark\"=\"tan3\",\"Dark\"=\"tan4\" )) + labs(caption = \"Created by Anita in STA303/1002, Winter 2022\")"
   ]
  },
  {
   "cell_type": "markdown",
   "id": "c889bbcd",
   "metadata": {},
   "source": [
    "*Sleep flags by skin colour* The bar plot shows the number of flags during a customers sleep session according to their skin colour. The darker the skin tone emoji used by the customer the more issues with sleep tracking in their device compares to people with lighter skin or people who are using the default skin tone emoji."
   ]
  },
  {
   "cell_type": "code",
   "execution_count": 18,
   "id": "a1bf3133",
   "metadata": {},
   "outputs": [
    {
     "data": {
      "text/plain": [
       "\n",
       "\n",
       "|Skin Tone    | MeanFlags| Variance of Flags| number of flags|\n",
       "|:------------|---------:|-----------------:|---------------:|\n",
       "|Light        |      1.16|              1.68|            3680|\n",
       "|Medium Light |      2.50|              3.60|            3173|\n",
       "|Medium       |      3.65|              4.98|            2962|\n",
       "|Medium Dark  |      7.43|             10.16|            2862|\n",
       "|Dark         |     11.79|             16.09|            2687|"
      ]
     },
     "metadata": {},
     "output_type": "display_data"
    }
   ],
   "source": [
    "flag_table <- sleep%>%\n",
    "  group_by(skin_colour) %>% summarise(mean = mean(flags), var = var(flags), n = n())\n",
    "\n",
    "knitr::kable(flag_table, \"pipe\", col.names = c(\"Skin Tone\", \"MeanFlags\", \"Variance of Flags\", \"number of flags\"),\n",
    "             digits = 2)"
   ]
  },
  {
   "cell_type": "markdown",
   "id": "e7ccc151",
   "metadata": {},
   "source": [
    "*Mean and Variance of Flags During Sleep By Skin Tone* The mean number and the variance in the number of flags for dark skin tone emoji users was higher than that of light skin tone emoji users.\n",
    "\n",
    "### Methods for Question 2:\n",
    "The second question we were interested in was whether people with darker skin experience more issues with sleep tracking in their device than people with lighter skin. The dataset was provided by MINGAR and contained customer information such as age, sex, income, device, and emoji modifier. The variable of interest was the number of flags per hour of sleep, where a flag represents an issue in tracking sleep quality. The predictor variables were skin colour, age, sex, and device. We used the emoji modifier to sort the customers based on their skin colour, under the assumption that people choose the colour of their emoji to match their own skin colour. We removed customers that used the default emoji, as it is difficult to make assumptions about the skin colour of people using this emoji. Observations that did not have information about their sex were also removed. After these changes, the number of unique customers from 974 to 710. This is an observational study, since we do not have control over any of the variables.\n",
    "\n",
    "#### Model\n",
    "\n",
    "The distribution of the number of flags seemed to follow a Poisson distribution, so we fit several general linear mixed Poisson models in version 4.0.5 of R (R Core Team, 2021) using the lme4 package (Bates, Maechker, Bolker, & Walker, 2015). The following model is the final model: \n",
    "\n",
    "$$Y_i \\sim Poisson(\\lambda_i)$$\n",
    "$$ Log(\\lambda_i)=x_i*\\beta + U_i $$\n",
    "\n",
    "where:\n",
    "-$Y_i$ is the number of flags per hour of sleep\n",
    "-$\\lambda$ is the mean number of flags for each skin colour group\n",
    "-$x_1$ is the fixed effect of skin colour \n",
    "-$x_2$ is the fixed effect of age\n",
    "-$U_i \\sim N(0,\\sigma^2)$ is customer id random effect \n",
    "\n",
    "The fixed effects of this model are skin colour and age, since we want to see how these variables affect the number of flags. The random effect is the customer id, since we expect different customers to have random variation in the number of flags and we want to be able to generalize to the whole population. We can use customer id as a random effect because there are several sleep sessions per customer, so it is treated as a grouping variable.\n",
    "We arrived at this result after doing likelihood ratio tests to compare models. This process led us to conclude that sex and the device type have no significant effect on the number of flags."
   ]
  },
  {
   "cell_type": "code",
   "execution_count": 20,
   "id": "34c64c75",
   "metadata": {},
   "outputs": [
    {
     "name": "stderr",
     "output_type": "stream",
     "text": [
      "\u001b[1m\u001b[22m`summarise()` has grouped output by 'skin_colour'. You can override using the\n",
      "`.groups` argument.\n"
     ]
    },
    {
     "data": {
      "image/png": "[encoded data removed]",
      "text/plain": [
       "plot without title"
      ]
     },
     "metadata": {
      "image/png": {
       "height": 420,
       "width": 420
      }
     },
     "output_type": "display_data"
    }
   ],
   "source": [
    "sleep %>%group_by(skin_colour, device_name)%>% summarize(n = n())%>%\n",
    "  ggplot(aes(x=factor(skin_colour), y=n, fill = device_name)) + \n",
    "  geom_bar(stat=\"identity\")+xlab(\"skin colour\")+ylab(\"count\")+ggtitle(\"Number of devices of each type sold grouped by skin colour\") + labs(caption = \"Created by Anita in STA303/1002, Winter 2022\")"
   ]
  },
  {
   "cell_type": "code",
   "execution_count": 22,
   "id": "a6dd0e26",
   "metadata": {},
   "outputs": [
    {
     "data": {
      "text/html": [
       "719"
      ],
      "text/latex": [
       "719"
      ],
      "text/markdown": [
       "719"
      ],
      "text/plain": [
       "[1] 719"
      ]
     },
     "metadata": {},
     "output_type": "display_data"
    },
    {
     "name": "stderr",
     "output_type": "stream",
     "text": [
      "boundary (singular) fit: see ?isSingular\n",
      "\n"
     ]
    },
    {
     "data": {
      "text/plain": [
       "Generalized linear mixed model fit by maximum likelihood (Laplace\n",
       "  Approximation) [glmerMod]\n",
       " Family: poisson  ( log )\n",
       "Formula: flags ~ skin_colour + scales::rescale(age) + sex + (1 | cust_id) +  \n",
       "    (1 | device_name)\n",
       "   Data: sleep\n",
       " Offset: log(duration)\n",
       "\n",
       "     AIC      BIC   logLik deviance df.resid \n",
       " 64982.7  65059.0 -32481.3  64962.7    15233 \n",
       "\n",
       "Scaled residuals: \n",
       "    Min      1Q  Median      3Q     Max \n",
       "-2.9606 -0.9406 -0.1267  0.7310  6.1981 \n",
       "\n",
       "Random effects:\n",
       " Groups      Name        Variance  Std.Dev. \n",
       " cust_id     (Intercept) 2.108e-03 4.592e-02\n",
       " device_name (Intercept) 5.515e-09 7.426e-05\n",
       "Number of obs: 15243, groups:  cust_id, 719; device_name, 10\n",
       "\n",
       "Fixed effects:\n",
       "                          Estimate Std. Error  z value Pr(>|z|)    \n",
       "(Intercept)             -5.7717013  0.0175051 -329.715  < 2e-16 ***\n",
       "skin_colourMedium Light  0.7762487  0.0197815   39.241  < 2e-16 ***\n",
       "skin_colourMedium        1.1777951  0.0189242   62.237  < 2e-16 ***\n",
       "skin_colourMedium Dark   1.8909279  0.0176956  106.859  < 2e-16 ***\n",
       "skin_colourDark          2.3899436  0.0172846  138.270  < 2e-16 ***\n",
       "scales::rescale(age)    -0.0504423  0.0188178   -2.681  0.00735 ** \n",
       "sexIntersex             -0.0601887  0.0431590   -1.395  0.16314    \n",
       "sexMale                 -0.0006075  0.0087123   -0.070  0.94441    \n",
       "---\n",
       "Signif. codes:  0 ‘***’ 0.001 ‘**’ 0.01 ‘*’ 0.05 ‘.’ 0.1 ‘ ’ 1\n",
       "\n",
       "Correlation of Fixed Effects:\n",
       "            (Intr) skn_ML skn_cM skn_MD skn_cD sc::() sxIntr\n",
       "skn_clrMdmL -0.720                                          \n",
       "skin_clrMdm -0.751  0.667                                   \n",
       "skn_clrMdmD -0.798  0.713  0.745                            \n",
       "skin_clrDrk -0.835  0.730  0.762  0.815                     \n",
       "scls::rsc() -0.384 -0.001 -0.009 -0.025  0.029              \n",
       "sexIntersex -0.040  0.009  0.012 -0.008  0.003  0.000       \n",
       "sexMale     -0.175 -0.002  0.006  0.015 -0.006 -0.048  0.077\n",
       "optimizer (Nelder_Mead) convergence code: 0 (OK)\n",
       "boundary (singular) fit: see ?isSingular\n"
      ]
     },
     "metadata": {},
     "output_type": "display_data"
    },
    {
     "data": {
      "text/plain": [
       "Generalized linear mixed model fit by maximum likelihood (Laplace\n",
       "  Approximation) [glmerMod]\n",
       " Family: poisson  ( log )\n",
       "Formula: flags ~ skin_colour + scales::rescale(age) + sex + (1 | cust_id)\n",
       "   Data: sleep\n",
       " Offset: log(duration)\n",
       "\n",
       "     AIC      BIC   logLik deviance df.resid \n",
       " 64980.7  65049.3 -32481.3  64962.7    15234 \n",
       "\n",
       "Scaled residuals: \n",
       "    Min      1Q  Median      3Q     Max \n",
       "-2.9606 -0.9406 -0.1267  0.7310  6.1981 \n",
       "\n",
       "Random effects:\n",
       " Groups  Name        Variance Std.Dev.\n",
       " cust_id (Intercept) 0.002108 0.04592 \n",
       "Number of obs: 15243, groups:  cust_id, 719\n",
       "\n",
       "Fixed effects:\n",
       "                          Estimate Std. Error  z value Pr(>|z|)    \n",
       "(Intercept)             -5.7717087  0.0175052 -329.715  < 2e-16 ***\n",
       "skin_colourMedium Light  0.7762551  0.0197815   39.241  < 2e-16 ***\n",
       "skin_colourMedium        1.1778038  0.0189243   62.238  < 2e-16 ***\n",
       "skin_colourMedium Dark   1.8909351  0.0176956  106.859  < 2e-16 ***\n",
       "skin_colourDark          2.3899497  0.0172847  138.270  < 2e-16 ***\n",
       "scales::rescale(age)    -0.0504405  0.0188176   -2.680  0.00735 ** \n",
       "sexIntersex             -0.0601840  0.0431596   -1.394  0.16318    \n",
       "sexMale                 -0.0006062  0.0087123   -0.070  0.94453    \n",
       "---\n",
       "Signif. codes:  0 ‘***’ 0.001 ‘**’ 0.01 ‘*’ 0.05 ‘.’ 0.1 ‘ ’ 1\n",
       "\n",
       "Correlation of Fixed Effects:\n",
       "            (Intr) skn_ML skn_cM skn_MD skn_cD sc::() sxIntr\n",
       "skn_clrMdmL -0.720                                          \n",
       "skin_clrMdm -0.751  0.667                                   \n",
       "skn_clrMdmD -0.798  0.713  0.745                            \n",
       "skin_clrDrk -0.835  0.730  0.762  0.815                     \n",
       "scls::rsc() -0.384 -0.001 -0.009 -0.025  0.029              \n",
       "sexIntersex -0.040  0.009  0.012 -0.008  0.003  0.000       \n",
       "sexMale     -0.175 -0.002  0.006  0.015 -0.006 -0.048  0.077"
      ]
     },
     "metadata": {},
     "output_type": "display_data"
    },
    {
     "data": {
      "text/plain": [
       "Generalized linear mixed model fit by maximum likelihood (Laplace\n",
       "  Approximation) [glmerMod]\n",
       " Family: poisson  ( log )\n",
       "Formula: flags ~ skin_colour + scales::rescale(age) + (1 | cust_id)\n",
       "   Data: sleep\n",
       " Offset: log(duration)\n",
       "\n",
       "     AIC      BIC   logLik deviance df.resid \n",
       " 64978.6  65032.0 -32482.3  64964.6    15236 \n",
       "\n",
       "Scaled residuals: \n",
       "    Min      1Q  Median      3Q     Max \n",
       "-2.9588 -0.9410 -0.1268  0.7301  6.1984 \n",
       "\n",
       "Random effects:\n",
       " Groups  Name        Variance Std.Dev.\n",
       " cust_id (Intercept) 0.002137 0.04623 \n",
       "Number of obs: 15243, groups:  cust_id, 719\n",
       "\n",
       "Fixed effects:\n",
       "                        Estimate Std. Error  z value Pr(>|z|)    \n",
       "(Intercept)             -5.77260    0.01724 -334.893  < 2e-16 ***\n",
       "skin_colourMedium Light  0.77650    0.01979   39.237  < 2e-16 ***\n",
       "skin_colourMedium        1.17812    0.01893   62.227  < 2e-16 ***\n",
       "skin_colourMedium Dark   1.89072    0.01770  106.797  < 2e-16 ***\n",
       "skin_colourDark          2.39002    0.01730  138.184  < 2e-16 ***\n",
       "scales::rescale(age)    -0.05043    0.01882   -2.679  0.00738 ** \n",
       "---\n",
       "Signif. codes:  0 ‘***’ 0.001 ‘**’ 0.01 ‘*’ 0.05 ‘.’ 0.1 ‘ ’ 1\n",
       "\n",
       "Correlation of Fixed Effects:\n",
       "            (Intr) skn_ML skn_cM skn_MD skn_cD\n",
       "skn_clrMdmL -0.732                            \n",
       "skin_clrMdm -0.761  0.666                     \n",
       "skn_clrMdmD -0.808  0.713  0.745              \n",
       "skin_clrDrk -0.849  0.729  0.762  0.815       \n",
       "scls::rsc() -0.400 -0.001 -0.009 -0.025  0.028"
      ]
     },
     "metadata": {},
     "output_type": "display_data"
    },
    {
     "data": {
      "text/html": [
       "<table class=\"dataframe\">\n",
       "<caption>A anova: 2 × 5</caption>\n",
       "<thead>\n",
       "\t<tr><th></th><th scope=col>#Df</th><th scope=col>LogLik</th><th scope=col>Df</th><th scope=col>Chisq</th><th scope=col>Pr(&gt;Chisq)</th></tr>\n",
       "\t<tr><th></th><th scope=col>&lt;dbl&gt;</th><th scope=col>&lt;dbl&gt;</th><th scope=col>&lt;dbl&gt;</th><th scope=col>&lt;dbl&gt;</th><th scope=col>&lt;dbl&gt;</th></tr>\n",
       "</thead>\n",
       "<tbody>\n",
       "\t<tr><th scope=row>1</th><td>10</td><td>-32481.33</td><td>NA</td><td>          NA</td><td>       NA</td></tr>\n",
       "\t<tr><th scope=row>2</th><td> 9</td><td>-32481.33</td><td>-1</td><td>2.416332e-05</td><td>0.9960779</td></tr>\n",
       "</tbody>\n",
       "</table>\n"
      ],
      "text/latex": [
       "A anova: 2 × 5\n",
       "\\begin{tabular}{r|lllll}\n",
       "  & \\#Df & LogLik & Df & Chisq & Pr(>Chisq)\\\\\n",
       "  & <dbl> & <dbl> & <dbl> & <dbl> & <dbl>\\\\\n",
       "\\hline\n",
       "\t1 & 10 & -32481.33 & NA &           NA &        NA\\\\\n",
       "\t2 &  9 & -32481.33 & -1 & 2.416332e-05 & 0.9960779\\\\\n",
       "\\end{tabular}\n"
      ],
      "text/markdown": [
       "\n",
       "A anova: 2 × 5\n",
       "\n",
       "| <!--/--> | #Df &lt;dbl&gt; | LogLik &lt;dbl&gt; | Df &lt;dbl&gt; | Chisq &lt;dbl&gt; | Pr(&gt;Chisq) &lt;dbl&gt; |\n",
       "|---|---|---|---|---|---|\n",
       "| 1 | 10 | -32481.33 | NA |           NA |        NA |\n",
       "| 2 |  9 | -32481.33 | -1 | 2.416332e-05 | 0.9960779 |\n",
       "\n"
      ],
      "text/plain": [
       "  #Df LogLik    Df Chisq        Pr(>Chisq)\n",
       "1 10  -32481.33 NA           NA        NA \n",
       "2  9  -32481.33 -1 2.416332e-05 0.9960779 "
      ]
     },
     "metadata": {},
     "output_type": "display_data"
    },
    {
     "data": {
      "text/html": [
       "<table class=\"dataframe\">\n",
       "<caption>A anova: 2 × 5</caption>\n",
       "<thead>\n",
       "\t<tr><th></th><th scope=col>#Df</th><th scope=col>LogLik</th><th scope=col>Df</th><th scope=col>Chisq</th><th scope=col>Pr(&gt;Chisq)</th></tr>\n",
       "\t<tr><th></th><th scope=col>&lt;dbl&gt;</th><th scope=col>&lt;dbl&gt;</th><th scope=col>&lt;dbl&gt;</th><th scope=col>&lt;dbl&gt;</th><th scope=col>&lt;dbl&gt;</th></tr>\n",
       "</thead>\n",
       "<tbody>\n",
       "\t<tr><th scope=row>1</th><td>9</td><td>-32481.33</td><td>NA</td><td>    NA</td><td>       NA</td></tr>\n",
       "\t<tr><th scope=row>2</th><td>7</td><td>-32482.31</td><td>-2</td><td>1.9659</td><td>0.3742055</td></tr>\n",
       "</tbody>\n",
       "</table>\n"
      ],
      "text/latex": [
       "A anova: 2 × 5\n",
       "\\begin{tabular}{r|lllll}\n",
       "  & \\#Df & LogLik & Df & Chisq & Pr(>Chisq)\\\\\n",
       "  & <dbl> & <dbl> & <dbl> & <dbl> & <dbl>\\\\\n",
       "\\hline\n",
       "\t1 & 9 & -32481.33 & NA &     NA &        NA\\\\\n",
       "\t2 & 7 & -32482.31 & -2 & 1.9659 & 0.3742055\\\\\n",
       "\\end{tabular}\n"
      ],
      "text/markdown": [
       "\n",
       "A anova: 2 × 5\n",
       "\n",
       "| <!--/--> | #Df &lt;dbl&gt; | LogLik &lt;dbl&gt; | Df &lt;dbl&gt; | Chisq &lt;dbl&gt; | Pr(&gt;Chisq) &lt;dbl&gt; |\n",
       "|---|---|---|---|---|---|\n",
       "| 1 | 9 | -32481.33 | NA |     NA |        NA |\n",
       "| 2 | 7 | -32482.31 | -2 | 1.9659 | 0.3742055 |\n",
       "\n"
      ],
      "text/plain": [
       "  #Df LogLik    Df Chisq  Pr(>Chisq)\n",
       "1 9   -32481.33 NA     NA        NA \n",
       "2 7   -32482.31 -2 1.9659 0.3742055 "
      ]
     },
     "metadata": {},
     "output_type": "display_data"
    }
   ],
   "source": [
    "sleep <- sleep %>%\n",
    "  drop_na(skin_colour)%>% drop_na(sex)\n",
    "\n",
    "\n",
    "# after removing observations where skin_colour has NA's, the number of unique customers went from 974 to 719\n",
    "\n",
    "length(unique(sleep$cust_id))\n",
    "\n",
    "sleep_mod <- lme4::glmer(flags ~ skin_colour + scales::rescale(age) + sex + (1 | cust_id) + (1 | device_name), offset = log(duration), family='poisson', data=sleep)\n",
    "\n",
    "sleep_mod1 <- lme4::glmer(flags ~ skin_colour + scales::rescale(age) + sex+ (1 | cust_id), offset = log(duration), family='poisson', data=sleep)\n",
    "\n",
    "sleep_mod2 <- lme4::glmer(flags ~ skin_colour + scales::rescale(age) + (1 | cust_id), offset = log(duration), family='poisson', data=sleep)\n",
    "\n",
    "\n",
    "\n",
    "summary(sleep_mod)\n",
    "summary(sleep_mod1)\n",
    "summary(sleep_mod2)\n",
    "\n",
    "lmtest::lrtest(sleep_mod, sleep_mod1)\n",
    "lmtest::lrtest(sleep_mod1, sleep_mod2)"
   ]
  },
  {
   "cell_type": "code",
   "execution_count": 24,
   "id": "c5af4c3f",
   "metadata": {},
   "outputs": [],
   "source": [
    "confint = confint.merMod(sleep_mod2, method = \"Wald\")\n",
    "\n",
    "\n",
    "ests <- format(round(exp(summary(sleep_mod2)$coeff)[,1], 2), nsmall = 2)\n",
    "\n",
    "cis <- format(round(exp(confint),2)[-1,], nsmall = 2)\n",
    "\n",
    "cis_pretty <- str_c(\"(\", trimws(cis[,1]), \", \", cis[,2], \")\")\n",
    "\n",
    "rownames_for_table <- c(\"Intercept\", \"Medium LIght\", \"Medium\", \"medium Dark\", \"Dark\", \"age\")\n",
    "colnames_for_table <- c(\"Estimate\", \"95% CI\")\n",
    "\n",
    "my_pretty_table <- cbind(ests, cis_pretty)\n",
    "rownames(my_pretty_table) <- rownames_for_table\n",
    "colnames(my_pretty_table) <- colnames_for_table"
   ]
  },
  {
   "cell_type": "code",
   "execution_count": 26,
   "id": "efebf156",
   "metadata": {},
   "outputs": [
    {
     "data": {
      "text/plain": [
       "\n",
       "\n",
       "|             | Estimate|         95% CI|\n",
       "|:------------|--------:|--------------:|\n",
       "|Intercept    |     0.00|  (0.00,  0.00)|\n",
       "|Medium LIght |     2.17|  (2.09,  2.26)|\n",
       "|Medium       |     3.25|  (3.13,  3.37)|\n",
       "|medium Dark  |     6.62|  (6.40,  6.86)|\n",
       "|Dark         |    10.91| (10.55, 11.29)|\n",
       "|age          |     0.95|  (0.92,  0.99)|"
      ]
     },
     "metadata": {},
     "output_type": "display_data"
    }
   ],
   "source": [
    "knitr::kable(my_pretty_table, align = c(\"r\", \"r\"))"
   ]
  },
  {
   "cell_type": "markdown",
   "id": "248be78a",
   "metadata": {},
   "source": [
    "#### Results\n",
    "\n",
    "  We found that light-skinned people are the most common type of customer for MINGAR. The three most popular products are the Run ON, Run BE, and Advance 2; they are the most popular among all customers, regardless of skin colour. The duration of sleep does not differ much by skin colour, although there is a slight pattern showing that the darker the skin the lower the amount of sleep. However, darker-skinned people had much more flags per hour during their sleep, with an average of 11.8 flags per hour, compared to 1.2 for light-skinned individuals. As well, the variance in number of flags is quite high for dark-skinned individuals, with a variance of 16.09. The variance for light-skinned people is only 1.68. This can be seen in Figure 2 below.\n",
    "\n",
    "  After fitting several models, we find that the variables that have a significant effect on the number of flags are skin colour and age, with customer id as a random variable. Older individuals on average have more accuracy in their sleep tracking. Since the variable was rescaled, the minimum value is 0 and the maximum is 1. Thus, going from the youngest age (18) to the oldest age (92), holding skin colour constant, decreases the number of flags by five percent. The exponentiated estimates and 95 percent confidence intervals can be seen in Table 2 below. For skin colour, they estimate the factor by which the number of flags changes given a change from being light-skinned to the given skin colour, keeping age constant. For age,  they estimate the factor by which the number of flags changes given a one unit increase in age, holding skin colour constant. The exponentiated point estimate is 0.95 with a confidence interval of (     ). Skin colour also has a significant effect on the number of flags. Relative to being light-skinned, darkening the skin colour increases the number of flags. For example, having medium-light skin means one is 2.2 times more likely to get flagged than a light-skinned person, with a confidence interval of (2.09, 2.26). This means we are 95 percent confident that the true value is in this interval. The factors increase as skin tone darkens; an individual with the darkest skin tone is 10.9 times more likely than a light-skinned individual to get flagged. However, the confidence interval is wider: (10.55, 11.29), reflecting the fact that there is higher variation in the number of flags. It is clear though that there is a significant increase in the number of flags for all darker skin tones. The type of device as well as the level of income is not significant in the model, indicating that the number of flags is not affected by the type of device or the level of income of the individual.\n",
    "\n",
    "## Discussion\n",
    "\n",
    "The goal of our first research question was to determine the if there were any differences between the customers who bought the newer and affordable product as opposed to the customers who bought the traditional product. We found that there is some significant evidence that when a customer is aged 92 the odds of that customer buying the new product is 2.1316 times more likely as opposed to a customer who is aged 18. This is with a 95% confidence interval of (1.28, 1.66). However, there was no significant change of the odds of a customer buying the new product if their average income of the area according to their postal code is \\$ 195570 as compared to a customer with \\$ 41880 income. The limitation of this particular research question is that the data only consists of the postal code of the customer. We have no real data of their household income. There may be many cases where the average income of the household of a particular precinct differs significantly from their real income. \n",
    "\n",
    "Regarding the second research question, there is significant evidence that individuals with darker skin tones experience more sleep quality flags per hour of sleep than lighter skinned individuals. There is a 95 percent likelihood that individuals with the darkest skin tone are between 10.5 to 11.3 times more likely to get flagged during their sleep than light-skinned individuals. There is also greater variation in the number of flags for darker-skinned people. The type of device is not significant in this result, indicating that this issue persists among all devices.\n",
    "\n",
    "### Strengths and limitations\n",
    "\n",
    "There are several limitations of this study. First, the most popular emoji modifier is the default one, so there is a large portion of the sample that is not able to be investigated when comparing people of different skin tones. While the assumption that individuals pick the emoji colour to match their skin tone is reasonable, there may be some people who make it different for fun, or to fit in with the majority, which may create biased results. We do not have the actual data of the customer's skin colour and the emoji colour may not match a customer's real skin tone. Also, there may be other variables that affect the quality of sleep that are not included, such as noisiness of the neighbourhood, a presence of sleep disorders, stress level, general health, or sleep time. Furthermore, for the technical resources we used the Wald method to calculate our confidence intervals. Even though Wald method is known to be fast and efficient it may not be as precise as the profile likelihood and this due to computational resources. Lastly, we used the variable biological sex instead of pronouns for interpretation. There may have been useful founding in which pronouns could have affected the odds of a customer buying the newer product and their sleep quality flags.\n",
    "\n",
    "# References\n",
    "\n",
    "1. R Core Team (2021). R: A language and environment for statistical computing. R Foundation for Statistical Computing, Vienna, Austria. URL https://www.r-project.org/.\n",
    "\n",
    "2. Wickham et al., (2019). Welcome to the tidyverse. Journal of Open Source Software, 4(43), 1686, https://doi.org/10.21105/joss.01686\n",
    "\n",
    "3. Douglas Bates, Martin Maechler, Ben Bolker, Steve Walker (2015). Fitting Linear Mixed-Effects Models Using lme4. Journal of Statistical Software, 67(1), 1-48. doi:10.18637/jss.v067.i01.\n",
    "\n",
    "4. Hadley Wickham (2021). rvest: Easily Harvest (Scrape) Web Pages. https://rvest.tidyverse.org/, https://github.com/tidyverse/rvest.\n",
    "\n",
    "5. Achim Zeileis, Torsten Hothorn (2002). Diagnostic Checking in Regression Relationships. R News 2(3), 7-10. URL https://cran.r-project.org/doc/Rnews/\n",
    "\n",
    "6. Dmytro Perepolkin (2019). polite: Be Nice on the Web. R package version 0.1.1. https://github.com/dmi3kno/polite\n",
    "\n",
    "7. Emoji Charts. https://unicode.org/emoji/charts/full-emoji-modifiers.html#1f44a_1f3fc\n",
    "\n",
    "8. Statistical Society of Canada. Code of Ethical Statistical Practice. https://ssc.ca/sites/default/files/data/Members/public/Accreditation/ethics_e.pdf\n",
    "\n",
    "\\newpage\n",
    "# Appendix\n",
    "\n",
    "## Web scraping industry data on fitness tracker devices\n",
    "\n",
    "To web scrape the fitness tracker website we used the bow and scrape function to then make the list into a table. Most importantly the user agent profile including the email and the project it was used for was provided.\n",
    "\n",
    "## Accessing Census data on median household income\n",
    "\n",
    "While accessing the income data on the canadian census API we entered the censusmapper.ca website to get the API key and set up a folder for cache. The API key is a private information about my account and was not included in the project. After getting the household median income the data was simplified to only the needed variables for our project.\n",
    "\n",
    "## Accessing postcode conversion files\n",
    "\n",
    "To access the postcode conversion files we accepted the license agreement. This was a private and protected data that should not go on GitHub of any other public repositories. Only the data needed for our final submission of the project was saved.\n"
   ]
  },
  {
   "cell_type": "code",
   "execution_count": null,
   "id": "82680444",
   "metadata": {},
   "outputs": [],
   "source": []
  }
 ],
 "metadata": {
  "kernelspec": {
   "display_name": "R",
   "language": "R",
   "name": "ir"
  },
  "language_info": {
   "codemirror_mode": "r",
   "file_extension": ".r",
   "mimetype": "text/x-r-source",
   "name": "R",
   "pygments_lexer": "r",
   "version": "4.0.5"
  }
 },
 "nbformat": 4,
 "nbformat_minor": 5
}
